{
 "metadata": {
  "language_info": {
   "codemirror_mode": {
    "name": "ipython",
    "version": 3
   },
   "file_extension": ".py",
   "mimetype": "text/x-python",
   "name": "python",
   "nbconvert_exporter": "python",
   "pygments_lexer": "ipython3",
   "version": "3.6.6-final"
  },
  "orig_nbformat": 2,
  "kernelspec": {
   "name": "python36664bitwinconda9a56a0034b864710b2b4e2286a5ce8fc",
   "display_name": "Python 3.6.6 64-bit ('win': conda)"
  }
 },
 "nbformat": 4,
 "nbformat_minor": 2,
 "cells": [
  {
   "source": [
    "在進行程式碼理解時，建議可以採用幾個步驟\n",
    "\n",
    "## 1. 將數值設定\n",
    "我們首先將影片中4:58這個時段以前所講解的程式碼放入我們RFM.py這個檔案內，如下述程式碼所示。\n",
    "\n",
    "並執行下述程式碼。"
   ],
   "cell_type": "markdown",
   "metadata": {}
  },
  {
   "cell_type": "code",
   "execution_count": 22,
   "metadata": {},
   "outputs": [
    {
     "output_type": "execute_result",
     "data": {
      "text/plain": "str"
     },
     "metadata": {},
     "execution_count": 22
    }
   ],
   "source": [
    "\n",
    "\n",
    "import pandas as pd\n",
    "\n",
    "\n",
    "#-------------------------------------設置數值----------------------------------\n",
    "####### RFM 模型實戰演練 ####### \n",
    "\n",
    "####### 1.資料讀取 ####### \n",
    "orders= pd.read_csv('orders.csv')\n",
    "\n",
    "####### 2.資料處理 ####### \n",
    "\n",
    "# 情況一：日期有錯，請改成2018年\n",
    "orders['orderdate'] =  orders['orderdate'].str.replace('2017', '2018')\n",
    "\n",
    "# 情況二：將gender改變成male與female\n",
    "orders['gender'] = orders['gender'].str.replace('男性', 'male')\n",
    "\n",
    "# 問題：將女性改female\n",
    "orders['gender'] = orders['gender'].str.replace('女性', 'female')\n",
    "\n",
    "\n",
    "# 設定今天的日期： 2018/4/11\n",
    "'從今天來看過往的銷售狀況'\n",
    "from dateutil import parser\n",
    "assess_date = parser.parse('2018-04-11')\n",
    "\n",
    "type(assess_date)\n",
    "type('2018-04-11')\n",
    "#-----------------------------------------------------------------------------\n"
   ]
  },
  {
   "cell_type": "code",
   "execution_count": 23,
   "metadata": {},
   "outputs": [
    {
     "output_type": "execute_result",
     "data": {
      "text/plain": "   Unnamed: 0 product  orderId  clientId  gender   orderdate  grossmarg\n0           1  banana      582       230  female  2018-01-08         10\n1           2  banana        2       276    male  2018-02-18         10\n2           3  banana      725       277  female  2018-02-03         10\n3           4  banana      597       279    male  2018-03-05         10\n4           5  banana      761        92  female  2018-02-08         10",
      "text/html": "<div>\n<style scoped>\n    .dataframe tbody tr th:only-of-type {\n        vertical-align: middle;\n    }\n\n    .dataframe tbody tr th {\n        vertical-align: top;\n    }\n\n    .dataframe thead th {\n        text-align: right;\n    }\n</style>\n<table border=\"1\" class=\"dataframe\">\n  <thead>\n    <tr style=\"text-align: right;\">\n      <th></th>\n      <th>Unnamed: 0</th>\n      <th>product</th>\n      <th>orderId</th>\n      <th>clientId</th>\n      <th>gender</th>\n      <th>orderdate</th>\n      <th>grossmarg</th>\n    </tr>\n  </thead>\n  <tbody>\n    <tr>\n      <th>0</th>\n      <td>1</td>\n      <td>banana</td>\n      <td>582</td>\n      <td>230</td>\n      <td>female</td>\n      <td>2018-01-08</td>\n      <td>10</td>\n    </tr>\n    <tr>\n      <th>1</th>\n      <td>2</td>\n      <td>banana</td>\n      <td>2</td>\n      <td>276</td>\n      <td>male</td>\n      <td>2018-02-18</td>\n      <td>10</td>\n    </tr>\n    <tr>\n      <th>2</th>\n      <td>3</td>\n      <td>banana</td>\n      <td>725</td>\n      <td>277</td>\n      <td>female</td>\n      <td>2018-02-03</td>\n      <td>10</td>\n    </tr>\n    <tr>\n      <th>3</th>\n      <td>4</td>\n      <td>banana</td>\n      <td>597</td>\n      <td>279</td>\n      <td>male</td>\n      <td>2018-03-05</td>\n      <td>10</td>\n    </tr>\n    <tr>\n      <th>4</th>\n      <td>5</td>\n      <td>banana</td>\n      <td>761</td>\n      <td>92</td>\n      <td>female</td>\n      <td>2018-02-08</td>\n      <td>10</td>\n    </tr>\n  </tbody>\n</table>\n</div>"
     },
     "metadata": {},
     "execution_count": 23
    }
   ],
   "source": [
    "# 我們可以看到orders的處理後的模樣\n",
    "# 在此我們抓取前五筆的資料來查看\n",
    "orders.head()"
   ]
  },
  {
   "source": [
    "## 2. 解析Function的「參數」\n",
    "接著我們來解析RFM_cal function的內部程式碼，我們將進行逐步執行，這樣既可幫助我們進行程式碼的了解。\n",
    "可以看到RFM_cal有兩個需要放入的值，分別為\n",
    "- orders：代表要放入上述orders的資料表\n",
    "- assess_date：我們今天所設定的日期，在此的範例是2018-04-11\n"
   ],
   "cell_type": "markdown",
   "metadata": {}
  },
  {
   "cell_type": "code",
   "execution_count": 24,
   "metadata": {},
   "outputs": [],
   "source": [
    "\n",
    "# df2, recent_recency, frequency = RFM.RFM_cal(orders, assess_date)  ←使用function的程式碼\n",
    "\n",
    "# 設定function參數\n",
    "# 這裡名稱會是一樣的是因為剛好function內的參數與原數值變數的名稱相同。\n",
    "orders = orders\n",
    "assess_date = assess_date\n"
   ]
  },
  {
   "source": [
    "## 3. 解析RFM_cal function\n",
    "接下來我們來解析RFM_cal function\n",
    "\n",
    "- 設定好function參數後，我們可將function逐行執行\n",
    "- 此地方就不用執行第一行的def，可接執行def的下一行，逐行執行的方法可將一行一行的選取起來按F9進行執行\n"
   ],
   "cell_type": "markdown",
   "metadata": {}
  },
  {
   "source": [
    "- pivot_table設定：pivot_table為一種樞紐分析表\n",
    "\n",
    "- index : 列的值，可以想像為群組的分類，如果我們使用clientID為一個群組分類那麼相同的clientID即為一個分類，本次同時使用clientId, gender, orderdate為共同的一個分類，統計每一個product在消費當天的狀況\n",
    "\n",
    "- columns：我要進行統計的欄位\n",
    "\n",
    "- aggfunc：我要進行統計的準則，在此是依照長度\n",
    "\n",
    "- values：依據本數值統計\n",
    "\n",
    "舉下圖為例：我們將clientId, gender, orderdate為共同的一個分類（index），來統計product這個欄位（columns），如何統計呢？ 使用長度len（aggfunc）對每一數值（values）進行加總\n",
    "\n",
    "![](https://imgur.com/V0H0W89.png)"
   ],
   "cell_type": "markdown",
   "metadata": {}
  },
  {
   "cell_type": "code",
   "execution_count": 25,
   "metadata": {},
   "outputs": [],
   "source": [
    "\n",
    "# 計算每個人在banana、water與milk的消費數量與時間\n",
    "\n",
    "# 不須執行def 可以將底下的程式碼選取起來 F9逐行執行讓您更了解該程式碼 \n",
    "#def RFM_cal(orders,assess_date):\n",
    "\n",
    "# 在orders內我們新增一行values = 1為後面計算product消費次數做準備\n",
    "orders['values'] = 1\n",
    "\n",
    "df2 = orders.pivot_table(index=['clientId','gender','orderdate'],columns='product',aggfunc=len, values='values').fillna(0).reset_index()\n"
   ]
  },
  {
   "cell_type": "code",
   "execution_count": 26,
   "metadata": {},
   "outputs": [
    {
     "output_type": "execute_result",
     "data": {
      "text/plain": "product  clientId  gender   orderdate  banana  milk  water\n0               1    male  2018-02-23     0.0   2.0    2.0\n1               1    male  2018-02-26     1.0   0.0    0.0\n2               1    male  2018-03-17     1.0   2.0    3.0\n3               1    male  2018-03-25     0.0   2.0    4.0\n4               1    male  2018-04-03     0.0   2.0    2.0\n5               2    male  2018-03-31     0.0   1.0    4.0\n6               3  female  2018-01-12     0.0   3.0    5.0\n7               3  female  2018-02-21     1.0   0.0    6.0\n8               3  female  2018-02-25     1.0   3.0    1.0\n9               3  female  2018-02-28     1.0   0.0    1.0\n10              3  female  2018-04-07     0.0   0.0    1.0\n11              3  female  2018-04-10     1.0   0.0    0.0\n12              4  female  2018-02-01     1.0   1.0    2.0\n13              5    male  2018-01-06     0.0   2.0    2.0\n14              5    male  2018-01-17     1.0   3.0    2.0\n15              5    male  2018-03-12     0.0   2.0    0.0\n16              5    male  2018-03-26     0.0   1.0    0.0\n17              6  female  2018-02-03     0.0   2.0    1.0\n18              6  female  2018-02-13     1.0   2.0    3.0\n19              6  female  2018-02-14     0.0   0.0    4.0\n20              6  female  2018-03-12     0.0   0.0    2.0\n21              7  female  2018-01-22     2.0   2.0    4.0\n22              7  female  2018-02-04     0.0   0.0    4.0\n23              7  female  2018-02-05     0.0   1.0    0.0\n24              7  female  2018-02-15     1.0   0.0    4.0\n25              7  female  2018-03-07     1.0   3.0    3.0\n26              8  female  2018-01-09     0.0   2.0    1.0\n27              8  female  2018-01-28     0.0   3.0    5.0\n28              8  female  2018-04-07     0.0   1.0    3.0\n29              9  female  2018-02-23     1.0   1.0    3.0\n..            ...     ...         ...     ...   ...    ...\n938           292  female  2018-03-16     0.0   0.0    2.0\n939           292  female  2018-03-25     1.0   2.0    1.0\n940           293  female  2018-01-05     3.0   0.0    4.0\n941           293  female  2018-02-18     1.0   0.0    6.0\n942           293  female  2018-03-05     1.0   1.0    1.0\n943           293  female  2018-04-11     1.0   3.0    1.0\n944           294  female  2018-01-05     2.0   1.0    3.0\n945           294  female  2018-01-10     0.0   3.0    2.0\n946           294  female  2018-01-19     1.0   0.0    3.0\n947           294  female  2018-01-24     0.0   1.0    1.0\n948           294  female  2018-02-08     1.0   1.0    1.0\n949           294  female  2018-02-14     0.0   0.0    4.0\n950           294  female  2018-02-22     0.0   1.0    0.0\n951           294  female  2018-03-24     0.0   1.0    2.0\n952           295  female  2018-01-15     1.0   2.0    1.0\n953           295  female  2018-02-17     0.0   1.0    4.0\n954           295  female  2018-03-13     1.0   1.0    2.0\n955           295  female  2018-03-22     1.0   1.0    2.0\n956           296    male  2018-02-27     1.0   0.0    4.0\n957           296    male  2018-03-11     1.0   1.0    0.0\n958           296    male  2018-03-12     1.0   1.0    3.0\n959           296    male  2018-03-13     0.0   2.0    1.0\n960           297  female  2018-01-21     1.0   0.0    3.0\n961           297  female  2018-04-08     1.0   1.0    4.0\n962           298  female  2018-02-26     1.0   2.0    4.0\n963           298  female  2018-02-27     0.0   1.0    3.0\n964           298  female  2018-03-21     0.0   2.0    1.0\n965           299  female  2018-01-27     0.0   0.0    2.0\n966           300    male  2018-01-07     1.0   2.0    5.0\n967           300    male  2018-02-03     0.0   0.0    1.0\n\n[968 rows x 6 columns]",
      "text/html": "<div>\n<style scoped>\n    .dataframe tbody tr th:only-of-type {\n        vertical-align: middle;\n    }\n\n    .dataframe tbody tr th {\n        vertical-align: top;\n    }\n\n    .dataframe thead th {\n        text-align: right;\n    }\n</style>\n<table border=\"1\" class=\"dataframe\">\n  <thead>\n    <tr style=\"text-align: right;\">\n      <th>product</th>\n      <th>clientId</th>\n      <th>gender</th>\n      <th>orderdate</th>\n      <th>banana</th>\n      <th>milk</th>\n      <th>water</th>\n    </tr>\n  </thead>\n  <tbody>\n    <tr>\n      <th>0</th>\n      <td>1</td>\n      <td>male</td>\n      <td>2018-02-23</td>\n      <td>0.0</td>\n      <td>2.0</td>\n      <td>2.0</td>\n    </tr>\n    <tr>\n      <th>1</th>\n      <td>1</td>\n      <td>male</td>\n      <td>2018-02-26</td>\n      <td>1.0</td>\n      <td>0.0</td>\n      <td>0.0</td>\n    </tr>\n    <tr>\n      <th>2</th>\n      <td>1</td>\n      <td>male</td>\n      <td>2018-03-17</td>\n      <td>1.0</td>\n      <td>2.0</td>\n      <td>3.0</td>\n    </tr>\n    <tr>\n      <th>3</th>\n      <td>1</td>\n      <td>male</td>\n      <td>2018-03-25</td>\n      <td>0.0</td>\n      <td>2.0</td>\n      <td>4.0</td>\n    </tr>\n    <tr>\n      <th>4</th>\n      <td>1</td>\n      <td>male</td>\n      <td>2018-04-03</td>\n      <td>0.0</td>\n      <td>2.0</td>\n      <td>2.0</td>\n    </tr>\n    <tr>\n      <th>5</th>\n      <td>2</td>\n      <td>male</td>\n      <td>2018-03-31</td>\n      <td>0.0</td>\n      <td>1.0</td>\n      <td>4.0</td>\n    </tr>\n    <tr>\n      <th>6</th>\n      <td>3</td>\n      <td>female</td>\n      <td>2018-01-12</td>\n      <td>0.0</td>\n      <td>3.0</td>\n      <td>5.0</td>\n    </tr>\n    <tr>\n      <th>7</th>\n      <td>3</td>\n      <td>female</td>\n      <td>2018-02-21</td>\n      <td>1.0</td>\n      <td>0.0</td>\n      <td>6.0</td>\n    </tr>\n    <tr>\n      <th>8</th>\n      <td>3</td>\n      <td>female</td>\n      <td>2018-02-25</td>\n      <td>1.0</td>\n      <td>3.0</td>\n      <td>1.0</td>\n    </tr>\n    <tr>\n      <th>9</th>\n      <td>3</td>\n      <td>female</td>\n      <td>2018-02-28</td>\n      <td>1.0</td>\n      <td>0.0</td>\n      <td>1.0</td>\n    </tr>\n    <tr>\n      <th>10</th>\n      <td>3</td>\n      <td>female</td>\n      <td>2018-04-07</td>\n      <td>0.0</td>\n      <td>0.0</td>\n      <td>1.0</td>\n    </tr>\n    <tr>\n      <th>11</th>\n      <td>3</td>\n      <td>female</td>\n      <td>2018-04-10</td>\n      <td>1.0</td>\n      <td>0.0</td>\n      <td>0.0</td>\n    </tr>\n    <tr>\n      <th>12</th>\n      <td>4</td>\n      <td>female</td>\n      <td>2018-02-01</td>\n      <td>1.0</td>\n      <td>1.0</td>\n      <td>2.0</td>\n    </tr>\n    <tr>\n      <th>13</th>\n      <td>5</td>\n      <td>male</td>\n      <td>2018-01-06</td>\n      <td>0.0</td>\n      <td>2.0</td>\n      <td>2.0</td>\n    </tr>\n    <tr>\n      <th>14</th>\n      <td>5</td>\n      <td>male</td>\n      <td>2018-01-17</td>\n      <td>1.0</td>\n      <td>3.0</td>\n      <td>2.0</td>\n    </tr>\n    <tr>\n      <th>15</th>\n      <td>5</td>\n      <td>male</td>\n      <td>2018-03-12</td>\n      <td>0.0</td>\n      <td>2.0</td>\n      <td>0.0</td>\n    </tr>\n    <tr>\n      <th>16</th>\n      <td>5</td>\n      <td>male</td>\n      <td>2018-03-26</td>\n      <td>0.0</td>\n      <td>1.0</td>\n      <td>0.0</td>\n    </tr>\n    <tr>\n      <th>17</th>\n      <td>6</td>\n      <td>female</td>\n      <td>2018-02-03</td>\n      <td>0.0</td>\n      <td>2.0</td>\n      <td>1.0</td>\n    </tr>\n    <tr>\n      <th>18</th>\n      <td>6</td>\n      <td>female</td>\n      <td>2018-02-13</td>\n      <td>1.0</td>\n      <td>2.0</td>\n      <td>3.0</td>\n    </tr>\n    <tr>\n      <th>19</th>\n      <td>6</td>\n      <td>female</td>\n      <td>2018-02-14</td>\n      <td>0.0</td>\n      <td>0.0</td>\n      <td>4.0</td>\n    </tr>\n    <tr>\n      <th>20</th>\n      <td>6</td>\n      <td>female</td>\n      <td>2018-03-12</td>\n      <td>0.0</td>\n      <td>0.0</td>\n      <td>2.0</td>\n    </tr>\n    <tr>\n      <th>21</th>\n      <td>7</td>\n      <td>female</td>\n      <td>2018-01-22</td>\n      <td>2.0</td>\n      <td>2.0</td>\n      <td>4.0</td>\n    </tr>\n    <tr>\n      <th>22</th>\n      <td>7</td>\n      <td>female</td>\n      <td>2018-02-04</td>\n      <td>0.0</td>\n      <td>0.0</td>\n      <td>4.0</td>\n    </tr>\n    <tr>\n      <th>23</th>\n      <td>7</td>\n      <td>female</td>\n      <td>2018-02-05</td>\n      <td>0.0</td>\n      <td>1.0</td>\n      <td>0.0</td>\n    </tr>\n    <tr>\n      <th>24</th>\n      <td>7</td>\n      <td>female</td>\n      <td>2018-02-15</td>\n      <td>1.0</td>\n      <td>0.0</td>\n      <td>4.0</td>\n    </tr>\n    <tr>\n      <th>25</th>\n      <td>7</td>\n      <td>female</td>\n      <td>2018-03-07</td>\n      <td>1.0</td>\n      <td>3.0</td>\n      <td>3.0</td>\n    </tr>\n    <tr>\n      <th>26</th>\n      <td>8</td>\n      <td>female</td>\n      <td>2018-01-09</td>\n      <td>0.0</td>\n      <td>2.0</td>\n      <td>1.0</td>\n    </tr>\n    <tr>\n      <th>27</th>\n      <td>8</td>\n      <td>female</td>\n      <td>2018-01-28</td>\n      <td>0.0</td>\n      <td>3.0</td>\n      <td>5.0</td>\n    </tr>\n    <tr>\n      <th>28</th>\n      <td>8</td>\n      <td>female</td>\n      <td>2018-04-07</td>\n      <td>0.0</td>\n      <td>1.0</td>\n      <td>3.0</td>\n    </tr>\n    <tr>\n      <th>29</th>\n      <td>9</td>\n      <td>female</td>\n      <td>2018-02-23</td>\n      <td>1.0</td>\n      <td>1.0</td>\n      <td>3.0</td>\n    </tr>\n    <tr>\n      <th>...</th>\n      <td>...</td>\n      <td>...</td>\n      <td>...</td>\n      <td>...</td>\n      <td>...</td>\n      <td>...</td>\n    </tr>\n    <tr>\n      <th>938</th>\n      <td>292</td>\n      <td>female</td>\n      <td>2018-03-16</td>\n      <td>0.0</td>\n      <td>0.0</td>\n      <td>2.0</td>\n    </tr>\n    <tr>\n      <th>939</th>\n      <td>292</td>\n      <td>female</td>\n      <td>2018-03-25</td>\n      <td>1.0</td>\n      <td>2.0</td>\n      <td>1.0</td>\n    </tr>\n    <tr>\n      <th>940</th>\n      <td>293</td>\n      <td>female</td>\n      <td>2018-01-05</td>\n      <td>3.0</td>\n      <td>0.0</td>\n      <td>4.0</td>\n    </tr>\n    <tr>\n      <th>941</th>\n      <td>293</td>\n      <td>female</td>\n      <td>2018-02-18</td>\n      <td>1.0</td>\n      <td>0.0</td>\n      <td>6.0</td>\n    </tr>\n    <tr>\n      <th>942</th>\n      <td>293</td>\n      <td>female</td>\n      <td>2018-03-05</td>\n      <td>1.0</td>\n      <td>1.0</td>\n      <td>1.0</td>\n    </tr>\n    <tr>\n      <th>943</th>\n      <td>293</td>\n      <td>female</td>\n      <td>2018-04-11</td>\n      <td>1.0</td>\n      <td>3.0</td>\n      <td>1.0</td>\n    </tr>\n    <tr>\n      <th>944</th>\n      <td>294</td>\n      <td>female</td>\n      <td>2018-01-05</td>\n      <td>2.0</td>\n      <td>1.0</td>\n      <td>3.0</td>\n    </tr>\n    <tr>\n      <th>945</th>\n      <td>294</td>\n      <td>female</td>\n      <td>2018-01-10</td>\n      <td>0.0</td>\n      <td>3.0</td>\n      <td>2.0</td>\n    </tr>\n    <tr>\n      <th>946</th>\n      <td>294</td>\n      <td>female</td>\n      <td>2018-01-19</td>\n      <td>1.0</td>\n      <td>0.0</td>\n      <td>3.0</td>\n    </tr>\n    <tr>\n      <th>947</th>\n      <td>294</td>\n      <td>female</td>\n      <td>2018-01-24</td>\n      <td>0.0</td>\n      <td>1.0</td>\n      <td>1.0</td>\n    </tr>\n    <tr>\n      <th>948</th>\n      <td>294</td>\n      <td>female</td>\n      <td>2018-02-08</td>\n      <td>1.0</td>\n      <td>1.0</td>\n      <td>1.0</td>\n    </tr>\n    <tr>\n      <th>949</th>\n      <td>294</td>\n      <td>female</td>\n      <td>2018-02-14</td>\n      <td>0.0</td>\n      <td>0.0</td>\n      <td>4.0</td>\n    </tr>\n    <tr>\n      <th>950</th>\n      <td>294</td>\n      <td>female</td>\n      <td>2018-02-22</td>\n      <td>0.0</td>\n      <td>1.0</td>\n      <td>0.0</td>\n    </tr>\n    <tr>\n      <th>951</th>\n      <td>294</td>\n      <td>female</td>\n      <td>2018-03-24</td>\n      <td>0.0</td>\n      <td>1.0</td>\n      <td>2.0</td>\n    </tr>\n    <tr>\n      <th>952</th>\n      <td>295</td>\n      <td>female</td>\n      <td>2018-01-15</td>\n      <td>1.0</td>\n      <td>2.0</td>\n      <td>1.0</td>\n    </tr>\n    <tr>\n      <th>953</th>\n      <td>295</td>\n      <td>female</td>\n      <td>2018-02-17</td>\n      <td>0.0</td>\n      <td>1.0</td>\n      <td>4.0</td>\n    </tr>\n    <tr>\n      <th>954</th>\n      <td>295</td>\n      <td>female</td>\n      <td>2018-03-13</td>\n      <td>1.0</td>\n      <td>1.0</td>\n      <td>2.0</td>\n    </tr>\n    <tr>\n      <th>955</th>\n      <td>295</td>\n      <td>female</td>\n      <td>2018-03-22</td>\n      <td>1.0</td>\n      <td>1.0</td>\n      <td>2.0</td>\n    </tr>\n    <tr>\n      <th>956</th>\n      <td>296</td>\n      <td>male</td>\n      <td>2018-02-27</td>\n      <td>1.0</td>\n      <td>0.0</td>\n      <td>4.0</td>\n    </tr>\n    <tr>\n      <th>957</th>\n      <td>296</td>\n      <td>male</td>\n      <td>2018-03-11</td>\n      <td>1.0</td>\n      <td>1.0</td>\n      <td>0.0</td>\n    </tr>\n    <tr>\n      <th>958</th>\n      <td>296</td>\n      <td>male</td>\n      <td>2018-03-12</td>\n      <td>1.0</td>\n      <td>1.0</td>\n      <td>3.0</td>\n    </tr>\n    <tr>\n      <th>959</th>\n      <td>296</td>\n      <td>male</td>\n      <td>2018-03-13</td>\n      <td>0.0</td>\n      <td>2.0</td>\n      <td>1.0</td>\n    </tr>\n    <tr>\n      <th>960</th>\n      <td>297</td>\n      <td>female</td>\n      <td>2018-01-21</td>\n      <td>1.0</td>\n      <td>0.0</td>\n      <td>3.0</td>\n    </tr>\n    <tr>\n      <th>961</th>\n      <td>297</td>\n      <td>female</td>\n      <td>2018-04-08</td>\n      <td>1.0</td>\n      <td>1.0</td>\n      <td>4.0</td>\n    </tr>\n    <tr>\n      <th>962</th>\n      <td>298</td>\n      <td>female</td>\n      <td>2018-02-26</td>\n      <td>1.0</td>\n      <td>2.0</td>\n      <td>4.0</td>\n    </tr>\n    <tr>\n      <th>963</th>\n      <td>298</td>\n      <td>female</td>\n      <td>2018-02-27</td>\n      <td>0.0</td>\n      <td>1.0</td>\n      <td>3.0</td>\n    </tr>\n    <tr>\n      <th>964</th>\n      <td>298</td>\n      <td>female</td>\n      <td>2018-03-21</td>\n      <td>0.0</td>\n      <td>2.0</td>\n      <td>1.0</td>\n    </tr>\n    <tr>\n      <th>965</th>\n      <td>299</td>\n      <td>female</td>\n      <td>2018-01-27</td>\n      <td>0.0</td>\n      <td>0.0</td>\n      <td>2.0</td>\n    </tr>\n    <tr>\n      <th>966</th>\n      <td>300</td>\n      <td>male</td>\n      <td>2018-01-07</td>\n      <td>1.0</td>\n      <td>2.0</td>\n      <td>5.0</td>\n    </tr>\n    <tr>\n      <th>967</th>\n      <td>300</td>\n      <td>male</td>\n      <td>2018-02-03</td>\n      <td>0.0</td>\n      <td>0.0</td>\n      <td>1.0</td>\n    </tr>\n  </tbody>\n</table>\n<p>968 rows × 6 columns</p>\n</div>"
     },
     "metadata": {},
     "execution_count": 26
    }
   ],
   "source": [
    "# 統計完畢後\n",
    "df2"
   ]
  },
  {
   "cell_type": "code",
   "execution_count": 27,
   "metadata": {},
   "outputs": [],
   "source": [
    "\n",
    "# frequency\n",
    "'指消費者在一定期間內購買該產品的次數'\n",
    "df2['frequency'] = 1\n",
    "\n",
    "# groupby 根據clientId 加總frequency， 便可算出顧客購買次數\n",
    "frequency = df2.groupby(\"clientId\", as_index = False)['frequency'].sum()\n",
    "del df2['frequency']\n",
    "\n",
    "# recency\n",
    "\n",
    "'指消費者至今再次購買與上次購買產品的時間差'\n",
    "# 轉將orderate轉為時間形式\n",
    "df2['orderdate'] = pd.to_datetime(df2['orderdate'])\n",
    "\n",
    "# 取出每一個消費者最近期的購買單據\n",
    "recent_recency = df2.groupby(\"clientId\", as_index = False)['orderdate'].max()\n",
    "\n",
    "# assess_date為今天日期，藉由今天日期 - 最近的購買日期 = 即為上次購買與今天的時間差\n",
    "recent_recency['recency'] =( assess_date - recent_recency['orderdate'] ).astype(str)\n",
    "\n",
    "# 問題：如何將recent_recency['recency']的days去除，並轉換為 int?\n",
    "# 因為我們只需要日期\n",
    "recent_recency['recency'] = recent_recency['recency'].str.replace('days.*', '', regex = True).astype(int)"
   ]
  },
  {
   "cell_type": "markdown",
   "metadata": {},
   "source": [
    "## 為了方便了解執行結果，可以查看下表，將frequency表前六行提取出來之結果\n",
    "從此表可看到每位顧客在現有資料中的購買頻率，如顧客ID1共購買五次，ID2只購買1次等"
   ]
  },
  {
   "cell_type": "code",
   "execution_count": 33,
   "metadata": {
    "tags": []
   },
   "outputs": [
    {
     "output_type": "stream",
     "name": "stdout",
     "text": "clientId  frequency\n       1          5\n       2          1\n       3          6\n       4          1\n       5          4\n       6          4\n"
    }
   ],
   "source": [
    "print(frequency.head(6).to_string(index=False))"
   ]
  },
  {
   "cell_type": "markdown",
   "metadata": {},
   "source": [
    "## 此外，也可查看下表了解每位顧客最後一次來消費是幾天前\n",
    "如顧客ID1最後一次消費為八天前，顧客ID2最後一次消費為十一天前等"
   ]
  },
  {
   "cell_type": "code",
   "execution_count": 36,
   "metadata": {
    "tags": []
   },
   "outputs": [
    {
     "output_type": "stream",
     "name": "stdout",
     "text": "clientId  orderdate  recency\n       1 2018-04-03        8\n       2 2018-03-31       11\n       3 2018-04-10        1\n       4 2018-02-01       69\n       5 2018-03-26       16\n       6 2018-03-12       30\n"
    }
   ],
   "source": [
    "print(recent_recency.head(6).to_string(index=False))"
   ]
  },
  {
   "cell_type": "code",
   "execution_count": null,
   "metadata": {},
   "outputs": [],
   "source": [
    "#接者在回傳值就完成了\n",
    "# return df2,recent_recency, frequency\n",
    "# 就會生成下述的檔案\n",
    "# df2, recent_recency, frequency = RFM.RFM_cal(orders, assess_date)  ←使用function的程式碼"
   ]
  }
 ]
}